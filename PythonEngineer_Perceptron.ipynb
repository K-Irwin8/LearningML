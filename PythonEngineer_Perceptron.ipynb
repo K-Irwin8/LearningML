{
  "nbformat": 4,
  "nbformat_minor": 0,
  "metadata": {
    "colab": {
      "name": "PythonEngineer/Perceptron.ipynb",
      "provenance": [],
      "collapsed_sections": [],
      "authorship_tag": "ABX9TyMQoya0tXOhm5rMoj+lzr6K",
      "include_colab_link": true
    },
    "kernelspec": {
      "name": "python3",
      "display_name": "Python 3"
    },
    "language_info": {
      "name": "python"
    }
  },
  "cells": [
    {
      "cell_type": "markdown",
      "metadata": {
        "id": "view-in-github",
        "colab_type": "text"
      },
      "source": [
        "<a href=\"https://colab.research.google.com/github/K-Irwin8/LearningML/blob/main/PythonEngineer_Perceptron.ipynb\" target=\"_parent\"><img src=\"https://colab.research.google.com/assets/colab-badge.svg\" alt=\"Open In Colab\"/></a>"
      ]
    },
    {
      "cell_type": "code",
      "metadata": {
        "id": "yL9jGkDNxjx9"
      },
      "source": [
        "import numpy as np"
      ],
      "execution_count": 1,
      "outputs": []
    },
    {
      "cell_type": "code",
      "metadata": {
        "id": "xm0yk7rbyGdh"
      },
      "source": [
        "class Perceptron:\n",
        "  def __init__ (self, learining_rate=0.01, n_iters=1000):\n",
        "    self.lr = learining_rate\n",
        "    self.n_iters = n_iters\n",
        "    self.activation_func = self._unit_step_func\n",
        "    self.weights = none\n",
        "    self.bias = none"
      ],
      "execution_count": 6,
      "outputs": []
    },
    {
      "cell_type": "markdown",
      "metadata": {
        "id": "odr-qnkZ0MQh"
      },
      "source": [
        "* what is self?\n",
        "* what is learning rate?\n",
        "* numpy について\n",
        "* np.where とは"
      ]
    },
    {
      "cell_type": "markdown",
      "metadata": {
        "id": "5gOihhoN24qP"
      },
      "source": [
        "next step is to impliment the \"fit\" and \"predict\" functions.\n",
        " **fit => training samples and labels.\n",
        "predict => test samples**"
      ]
    },
    {
      "cell_type": "markdown",
      "metadata": {
        "id": "4hL7rT3q3o08"
      },
      "source": [
        "* what is \"pass\"?\n",
        "* 何次元の vector かは結構つなう n x m. だから瞬時に計算できるようになった方がいい\n",
        "* WTF is X.shape\n",
        "* np.zeros とは\n",
        "* np.array とは"
      ]
    },
    {
      "cell_type": "code",
      "metadata": {
        "colab": {
          "base_uri": "https://localhost:8080/",
          "height": 130
        },
        "id": "zpqvGY5U238r",
        "outputId": "ec817eb0-0a7d-462a-f41d-b2433b1c3eeb"
      },
      "source": [
        "def fit(self,X,y):\n",
        "  n_samples, n_features = X.shape\n",
        "\n",
        "  #init weights (init = initialize)\n",
        "  self.weights = np.zeros(n_features)\n",
        "  self.bias = 0\n",
        "\n",
        "  #making ssure that y is only either 0 or 1\n",
        "   y_ = np.array([1 if i > 0 else 0 for i in y])\n",
        "\n",
        "\n",
        "   ここから！\n",
        "\n"
      ],
      "execution_count": 11,
      "outputs": [
        {
          "output_type": "error",
          "ename": "IndentationError",
          "evalue": "ignored",
          "traceback": [
            "\u001b[0;36m  File \u001b[0;32m\"<ipython-input-11-f180797fdc17>\"\u001b[0;36m, line \u001b[0;32m9\u001b[0m\n\u001b[0;31m    y_ = np.array([1 if i > 0 else 0 for i in y])\u001b[0m\n\u001b[0m    ^\u001b[0m\n\u001b[0;31mIndentationError\u001b[0m\u001b[0;31m:\u001b[0m unexpected indent\n"
          ]
        }
      ]
    },
    {
      "cell_type": "markdown",
      "metadata": {
        "id": "banIkuUC4g4e"
      },
      "source": [
        "np.dot は dot product のことで,[このこと](https://www.google.com/search?q=dot+product+&sxsrf=ALeKk022I-DBJVBDuGZ-zUnQP3P6zztI6Q%3A1622521803113&ei=y7e1YNKqBsfahwPgoIqgBQ&oq=dot+product+&gs_lcp=Cgdnd3Mtd2l6EAMyBAgAEEMyBAgAEEMyBAgAEEMyBAgAEEMyBAgAEEMyBQgAEMsBMgUIABDLATIFCAAQywEyAggAMgIIADoECCMQJzoFCAAQkQI6AgguUJz2KFiPgylg8YMpaABwAngBgAHrAogBtgySAQcyLjkuMC4xmAEAoAEBqgEHZ3dzLXdpesABAQ&sclient=gws-wiz&ved=0ahUKEwiSvNvdzPXwAhVH7WEKHWCQAlQQ4dUDCA0&uact=5)"
      ]
    },
    {
      "cell_type": "code",
      "metadata": {
        "id": "uHj1GrAk3oXC"
      },
      "source": [
        "def predict(self,X):\n",
        "  linear_output = np.dot(X,self.weights) + self.bias\n",
        "  y_predicted = self.activation_func(linear_output)\n",
        "  return y_predicted"
      ],
      "execution_count": 9,
      "outputs": []
    },
    {
      "cell_type": "markdown",
      "metadata": {
        "id": "YcVSG0bR0ji7"
      },
      "source": [
        "the reason we used np.where rather than a simple if else is cuz if you want to test x for a whole array, using this library function is better\n",
        "np.where(x>=0,1,0) == 1 if x>=0 else 0"
      ]
    },
    {
      "cell_type": "code",
      "metadata": {
        "id": "rSt25y0jzk4x"
      },
      "source": [
        "def _unit_step_func(self,x):\n",
        "  return np.where(x>=0,1,0)\n"
      ],
      "execution_count": null,
      "outputs": []
    },
    {
      "cell_type": "markdown",
      "metadata": {
        "id": "3aEv8O9x6gnS"
      },
      "source": [
        "**code した順番に関して**\n",
        "\n",
        "\n",
        "1.   最初の2 blocks\n",
        "2.   _unit_step_func\n",
        "3.   fit and predict function\n",
        "\n"
      ]
    },
    {
      "cell_type": "code",
      "metadata": {
        "id": "rkGcmj7x6kw1"
      },
      "source": [
        ""
      ],
      "execution_count": null,
      "outputs": []
    }
  ]
}