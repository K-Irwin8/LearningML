{
  "nbformat": 4,
  "nbformat_minor": 0,
  "metadata": {
    "colab": {
      "name": "おまけ_解答例.ipynb",
      "provenance": [],
      "include_colab_link": true
    },
    "kernelspec": {
      "name": "python3",
      "display_name": "Python 3"
    }
  },
  "cells": [
    {
      "cell_type": "markdown",
      "metadata": {
        "id": "view-in-github",
        "colab_type": "text"
      },
      "source": [
        "<a href=\"https://colab.research.google.com/github/K-Irwin8/LearningML/blob/main/%E3%81%8A%E3%81%BE%E3%81%91_%E8%A7%A3%E7%AD%94%E4%BE%8B.ipynb\" target=\"_parent\"><img src=\"https://colab.research.google.com/assets/colab-badge.svg\" alt=\"Open In Colab\"/></a>"
      ]
    },
    {
      "cell_type": "code",
      "metadata": {
        "id": "y6wpn8lYzAsa"
      },
      "source": [
        "# このセルはデータセットを作成するためのものです．理解は後回しで大丈夫です．\n",
        "import numpy as np\n",
        "N_size =  1000  # データ数\n",
        "np.random.seed(0)\n",
        "N = np.random.randn(N_size, 2)  # (データ数, 2)の乱数を作る.\n",
        "\n",
        "def h(x, y):\n",
        "    return 3*x + 8*y + 1  # 先に分離平面を決めておく\n",
        "    \n",
        "label = np.array([1 if h(x, y) > 0 else 0 for x, y in N]).reshape(N_size, 1)  # 分離平面より上なら1, 下なら0とラベル付けする.問題を解くのと逆の作業をしている\n",
        "N = np.concatenate([N, label], axis=1)  # 特徴量とラベルの表をくっつける"
      ],
      "execution_count": 1,
      "outputs": []
    },
    {
      "cell_type": "code",
      "metadata": {
        "id": "M7RWvsuV2oVG"
      },
      "source": [
        "class My_Perceptron:\n",
        "    def __init__(self):\n",
        "        self.w = None  ## 重み\n",
        "\n",
        "    def fit(self, x, y, eta=1):  ## 学習を行うメソッド.xが特徴量, yがラベル.etaは学習率.\n",
        "        self.w = np.array([0, 0, 0]).astype(float)  ## 重みを初期化\n",
        "        while 1:\n",
        "            miss_count = 0  ## ラベルを間違って分類した数.間違えるごとに増やす.\n",
        "            for i in range(len(x)):  ## データ数だけ回す.「i」によって各データにアクセスする.\n",
        "                if self.w[0] * x[i, 0] + self.w[1] * x[i, 1] + self.w[2] > 0: ##  図でいうと if a > 0: 0より大きいかどうかでpredict_labelを決めるのがステップ関数.\n",
        "                    predict_label = 1\n",
        "                else:\n",
        "                    predict_label = 0\n",
        "\n",
        "                self.w[0] += eta * (y[i] - predict_label) * x[i, 0] ## 重みw1を更新. もし予想ラベルと正解ラベルが一致していたら0になり, 更新されない.\n",
        "                self.w[1] += eta * (y[i] - predict_label) * x[i, 1] ## 重みw2を更新\n",
        "                self.w[2] += eta * (y[i] - predict_label) * 1 ## バイアスbを更新\n",
        "\n",
        "                if predict_label != y[i]:  ## もし予想ラベルと正解ラベルが一致していなかったら\n",
        "                    miss_count += 1\n",
        "            print(miss_count, self.w)  ## なくても良い.学習によってmiss_countが減っていく様子, 重みが変わっていく様子が見れて楽しい.\n",
        "            if miss_count == 0:  ## 0のままだったら, 全てのサンプルで正解したので学習を終える\n",
        "                break\n",
        "\n",
        "    def predict(self, x):  ## 推論を行うメソッド.xが特徴量\n",
        "        predict_label_list = []  ## ここに予想ラベルを追加していく\n",
        "        for i in range(len(x)):\n",
        "            if self.w[0] * x[i, 0] + self.w[1] * x[i, 1] + self.w[2] > 0:\n",
        "                predict_label = 1\n",
        "            else:\n",
        "                predict_label = 0\n",
        "            predict_label_list.append(predict_label)\n",
        "        return np.array(predict_label_list)"
      ],
      "execution_count": 3,
      "outputs": []
    },
    {
      "cell_type": "code",
      "metadata": {
        "id": "7FFAETEAdP4K"
      },
      "source": [
        "X, y = N[:, :2], N[:, 2]"
      ],
      "execution_count": 4,
      "outputs": []
    },
    {
      "cell_type": "code",
      "metadata": {
        "id": "vxTqZfDAddRH"
      },
      "source": [
        "X_train, X_test = X[:int(len(X) * 0.7)], X[int(len(X) * 0.7):]"
      ],
      "execution_count": 5,
      "outputs": []
    },
    {
      "cell_type": "code",
      "metadata": {
        "id": "oKYP5VXXdyp_"
      },
      "source": [
        "y_train, y_test = y[:int(len(y) * 0.7)], y[int(len(y) * 0.7):]"
      ],
      "execution_count": 6,
      "outputs": []
    },
    {
      "cell_type": "code",
      "metadata": {
        "id": "o6oXrZlfd7_w"
      },
      "source": [
        "model = My_Perceptron()"
      ],
      "execution_count": 7,
      "outputs": []
    },
    {
      "cell_type": "code",
      "metadata": {
        "id": "NuVS74QkeCxp",
        "colab": {
          "base_uri": "https://localhost:8080/"
        },
        "outputId": "f456e28b-bc32-41f8-e883-a61dc167f3df"
      },
      "source": [
        "model.fit(X_train, y_train)"
      ],
      "execution_count": 8,
      "outputs": [
        {
          "output_type": "stream",
          "text": [
            "50 [3.22704861 6.73888966 0.        ]\n",
            "34 [3.63447751 9.303164   0.        ]\n",
            "10 [3.58198208 9.89452408 0.        ]\n",
            "14 [ 3.83952507 10.54273186  0.        ]\n",
            "14 [ 3.75612747 11.04564397  0.        ]\n",
            "11 [ 4.75622504 11.12722727  1.        ]\n",
            "12 [ 4.91120965 11.46780536  1.        ]\n",
            "14 [ 4.87241014 11.91513708  1.        ]\n",
            "12 [ 5.02739476 12.25571518  1.        ]\n",
            "12 [ 5.18237938 12.59629327  1.        ]\n",
            "18 [ 5.73216461 13.28027309  1.        ]\n",
            "14 [ 5.51691075 13.87072844  1.        ]\n",
            "12 [ 6.09692869 13.93905869  1.        ]\n",
            "18 [ 5.76818292 14.80329709  1.        ]\n",
            "12 [ 5.22979225 15.36417923  1.        ]\n",
            "16 [ 5.39009413 15.86884379  1.        ]\n",
            "9 [ 6.01648373 15.98881168  2.        ]\n",
            "0 [ 6.01648373 15.98881168  2.        ]\n"
          ],
          "name": "stdout"
        }
      ]
    },
    {
      "cell_type": "code",
      "metadata": {
        "id": "iU7Ltr92eGpg"
      },
      "source": [
        "y_pred = model.predict(X_test)"
      ],
      "execution_count": 9,
      "outputs": []
    },
    {
      "cell_type": "code",
      "metadata": {
        "id": "wkzQqBkteLgB",
        "colab": {
          "base_uri": "https://localhost:8080/"
        },
        "outputId": "3053ef17-f560-46e0-9f63-fe7c9ba7fbdb"
      },
      "source": [
        "(y_pred == y_test).sum() / len(y_test)"
      ],
      "execution_count": 10,
      "outputs": [
        {
          "output_type": "execute_result",
          "data": {
            "text/plain": [
              "1.0"
            ]
          },
          "metadata": {
            "tags": []
          },
          "execution_count": 10
        }
      ]
    },
    {
      "cell_type": "code",
      "metadata": {
        "id": "kL9m27SdeZAZ"
      },
      "source": [
        ""
      ],
      "execution_count": null,
      "outputs": []
    }
  ]
}