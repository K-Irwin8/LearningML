{
  "nbformat": 4,
  "nbformat_minor": 0,
  "metadata": {
    "colab": {
      "name": "おまけ.ipynb",
      "provenance": [],
      "collapsed_sections": [],
      "include_colab_link": true
    },
    "kernelspec": {
      "name": "python3",
      "display_name": "Python 3"
    }
  },
  "cells": [
    {
      "cell_type": "markdown",
      "metadata": {
        "id": "view-in-github",
        "colab_type": "text"
      },
      "source": [
        "<a href=\"https://colab.research.google.com/github/K-Irwin8/LearningML/blob/main/%E3%81%8A%E3%81%BE%E3%81%91.ipynb\" target=\"_parent\"><img src=\"https://colab.research.google.com/assets/colab-badge.svg\" alt=\"Open In Colab\"/></a>"
      ]
    },
    {
      "cell_type": "code",
      "metadata": {
        "id": "QWyfw-1THtEs"
      },
      "source": [
        "import numpy as np\n",
        "N_size =  1000\n",
        "np.random.seed(0)\n",
        "N = np.random.randn(N_size, 2)\n",
        "\n",
        "def h(x, y):\n",
        "    return 3*x + 8*y + 1\n",
        "    \n",
        "label = np.array([1 if h(x, y) > 0 else 0 for x, y in N]).reshape(N_size, 1)\n",
        "N = np.concatenate([N, label], axis=1)"
      ],
      "execution_count": null,
      "outputs": []
    },
    {
      "cell_type": "code",
      "metadata": {
        "id": "DtF_7UOSH9Oh"
      },
      "source": [
        "class Perceptron:\n",
        "    def __init__(self):\n",
        "        self.w = None  # 重み\n",
        "        \n",
        "    def fit(self, x, y, eta=1):  # 学習を行うメソッド.xが特徴量, yがラベル.etaは学習率.\n",
        "        self.w = np.array([0, 0, 0]).astype(float)  # 重みを初期化\n",
        "        while 1:\n",
        "            miss_count = 0  # ラベルを間違って分類した数.間違えるごとに増やす.\n",
        "            for i in range(len(x)):\n",
        "                if '''\n",
        "\n",
        "            ここに追記してください\n",
        "\n",
        "                '''\n",
        "                    predict_label = 1\n",
        "                else:\n",
        "                    predict_label = 0\n",
        "                \n",
        "                self.w[0] += eta * (y[i] - predict_label) * x[i, 0] # 重みを更新\n",
        "                self.w[1] += eta * (y[i] - predict_label) * x[i, 1] # 重みを更新\n",
        "                self.w[2] += eta * (y[i] - predict_label) * 1 # 重みを更新\n",
        "            \n",
        "                if predict_label != y[i]:\n",
        "                    miss_count += 1\n",
        "            print(miss_count, self.w)\n",
        "            if miss_count == 0:  # 0のままだったら、全てのサンプルで正解したので学習を終える\n",
        "                break\n",
        "                \n",
        "    def predict(self, x):  # 推論を行うメソッド.xが特徴量\n",
        "        predict_label_list = []  # ここに予想ラベルを追加していく\n",
        "        for i in range(len(x)):\n",
        "            if '''\n",
        "            \n",
        "            ここに追記してください\n",
        "            \n",
        "            '''\n",
        "                predict_label = 1\n",
        "            else:\n",
        "                predict_label = 0\n",
        "            predict_label_list.append(predict_label)\n",
        "        return np.array(predict_label_list)"
      ],
      "execution_count": null,
      "outputs": []
    }
  ]
}